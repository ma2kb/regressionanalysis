{
  "nbformat": 4,
  "nbformat_minor": 0,
  "metadata": {
    "colab": {
      "provenance": []
    },
    "kernelspec": {
      "name": "python3",
      "display_name": "Python 3"
    },
    "language_info": {
      "name": "python"
    }
  },
  "cells": [
    {
      "cell_type": "markdown",
      "source": [
        "Car Sales Regression Analysis (with Decision Tree Model!!!)\n",
        "\n",
        "Miguel Arredondo\n",
        "\n",
        "12/01/2024"
      ],
      "metadata": {
        "id": "R3iswIc6HOY_"
      }
    },
    {
      "cell_type": "markdown",
      "source": [
        "#Abstract\n",
        "This regression model explores how predictive modeling for car sales prices can improve using machine learning methods (decision tree model). The goal is to determine the most effective regression model using a decision tree model for accurately predicting vehicle prices based on their features. No study or model has been made for this specific dataset, so this is a good opportunity to use machine learning methods to create an accurate regression model. The research question was tackled by evaluat two approaches: an Ordinary Least Squares (OLS) linear regression and a Decision Tree Regressor with hyperparameter tuning. Extensive data preprocessing addressed missing values, encoded categorical variables, and standardized numerical features before applying regression models and optimizing them. The key impact of the research was that the Decision Tree model, achieving an R² of 0.818, offered a robust framework for pricing predictions, providing actionable insights for automotive businesses."
      ],
      "metadata": {
        "id": "89v32GixHbQl"
      }
    },
    {
      "cell_type": "markdown",
      "source": [
        "#Methods\n",
        "The analysis began with an EDA (exploratory data analysis) to assess the quality of the car sales dataset. This included visualizing distributions for the variables, generating a correlation heatmap, and conducting ANOVA tests. Irrelevant columns were dropped and missing values were imputed using mean for numerical variables and mode for categorical features. Next, two predictive models were developed: an ordinary least squares regression and a decision tree model. The ordinary least squares regression served as a baseline, while the decision tree model was optimized using a grid search to fine tune hyperparameters. The dataset was also split into training and test sets and the model accuracy was evaluated using r^2 values. In the end, the ordinary least squares regression model had an r^2 value of 0.567 which was outperformed by the decision tree model with an r^2 value of 0.818."
      ],
      "metadata": {
        "id": "sptkZY5eI_P8"
      }
    },
    {
      "cell_type": "markdown",
      "source": [
        "#Conclusion\n",
        "In conclusion, the decision tree model provided the superior predictive performance compared to the ordinary least squares regression model. This was mostly due to the decision tree model's GridSearchCV which identified the optimal hyperparameters, contributing to the model's accuracy. However, the model's performance is limited because of the dataset's limited features, which indicates potential for even more improvement with further data collection."
      ],
      "metadata": {
        "id": "5H_Q2p0ILbr7"
      }
    },
    {
      "cell_type": "markdown",
      "source": [
        "#Statement of Business Value\n",
        "The developed regression model for the car sales dataset offers substantial business value by enabling accurate prediction for car dealerships. With the decision tree model offering great accuracy, businesses can estimate car prices based on features like engine specs, fuel economy, and vehicle dimensions. This tool can enhance pricing processes, ensure competitiveness, and improve customer satisfaction through fair pricing. Additionally, the model can serve as the foundation of a digital product such as online valuation tools for car resale websites. Beyond direct financial benefits, the model has strategic value by showcasing how different machine learning methods, such as a decision tree model, can improve accuracy in predictive models."
      ],
      "metadata": {
        "id": "TOx3zMzgMir8"
      }
    }
  ]
}